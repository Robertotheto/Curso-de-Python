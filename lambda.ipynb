{
 "cells": [
  {
   "cell_type": "code",
   "execution_count": 1,
   "id": "d1db20bc",
   "metadata": {},
   "outputs": [],
   "source": [
    "def somaQuadrados(a,b):\n",
    "    soma = a**2+b**2\n",
    "    return soma"
   ]
  },
  {
   "cell_type": "code",
   "execution_count": 2,
   "id": "43b2237e",
   "metadata": {},
   "outputs": [
    {
     "data": {
      "text/plain": [
       "18"
      ]
     },
     "execution_count": 2,
     "metadata": {},
     "output_type": "execute_result"
    }
   ],
   "source": [
    "somaQuadrados(3,3)"
   ]
  },
  {
   "cell_type": "code",
   "execution_count": 3,
   "id": "3bffee56",
   "metadata": {},
   "outputs": [],
   "source": [
    "somaQuadrados2 = lambda a,b: a**2+b**2"
   ]
  },
  {
   "cell_type": "code",
   "execution_count": 4,
   "id": "e6e9ccc7",
   "metadata": {},
   "outputs": [
    {
     "data": {
      "text/plain": [
       "18"
      ]
     },
     "execution_count": 4,
     "metadata": {},
     "output_type": "execute_result"
    }
   ],
   "source": [
    "somaQuadrados2(3,3)"
   ]
  },
  {
   "cell_type": "code",
   "execution_count": null,
   "id": "f02f198e",
   "metadata": {},
   "outputs": [],
   "source": []
  }
 ],
 "metadata": {
  "kernelspec": {
   "display_name": "Python 3 (ipykernel)",
   "language": "python",
   "name": "python3"
  },
  "language_info": {
   "codemirror_mode": {
    "name": "ipython",
    "version": 3
   },
   "file_extension": ".py",
   "mimetype": "text/x-python",
   "name": "python",
   "nbconvert_exporter": "python",
   "pygments_lexer": "ipython3",
   "version": "3.8.12"
  }
 },
 "nbformat": 4,
 "nbformat_minor": 5
}
