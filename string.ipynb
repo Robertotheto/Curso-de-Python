{
 "cells": [
  {
   "cell_type": "code",
   "execution_count": 1,
   "id": "3474a0db",
   "metadata": {},
   "outputs": [],
   "source": [
    "frase = 'Estou gostando do curso'"
   ]
  },
  {
   "cell_type": "code",
   "execution_count": 2,
   "id": "0040b6e2",
   "metadata": {},
   "outputs": [
    {
     "data": {
      "text/plain": [
       "'t'"
      ]
     },
     "execution_count": 2,
     "metadata": {},
     "output_type": "execute_result"
    }
   ],
   "source": [
    "frase[2]"
   ]
  },
  {
   "cell_type": "code",
   "execution_count": 3,
   "id": "345f605e",
   "metadata": {},
   "outputs": [
    {
     "data": {
      "text/plain": [
       "'tou go'"
      ]
     },
     "execution_count": 3,
     "metadata": {},
     "output_type": "execute_result"
    }
   ],
   "source": [
    "frase[2:8]"
   ]
  },
  {
   "cell_type": "code",
   "execution_count": 4,
   "id": "483cc269",
   "metadata": {},
   "outputs": [
    {
     "data": {
      "text/plain": [
       "' gostando do curso'"
      ]
     },
     "execution_count": 4,
     "metadata": {},
     "output_type": "execute_result"
    }
   ],
   "source": [
    "frase[5:]"
   ]
  },
  {
   "cell_type": "code",
   "execution_count": 5,
   "id": "1f98451f",
   "metadata": {},
   "outputs": [
    {
     "data": {
      "text/plain": [
       "'Estou gostando'"
      ]
     },
     "execution_count": 5,
     "metadata": {},
     "output_type": "execute_result"
    }
   ],
   "source": [
    "frase[:14]"
   ]
  },
  {
   "cell_type": "markdown",
   "id": "b4d8ba36",
   "metadata": {},
   "source": [
    "Pegando string com pulo de 2 em 2"
   ]
  },
  {
   "cell_type": "code",
   "execution_count": 6,
   "id": "b8971f59",
   "metadata": {},
   "outputs": [
    {
     "data": {
      "text/plain": [
       "'gsad'"
      ]
     },
     "execution_count": 6,
     "metadata": {},
     "output_type": "execute_result"
    }
   ],
   "source": [
    "frase[6:14:2]"
   ]
  },
  {
   "cell_type": "code",
   "execution_count": 7,
   "id": "a064c78d",
   "metadata": {},
   "outputs": [
    {
     "data": {
      "text/plain": [
       "5"
      ]
     },
     "execution_count": 7,
     "metadata": {},
     "output_type": "execute_result"
    }
   ],
   "source": [
    "frase.count('o')"
   ]
  },
  {
   "cell_type": "code",
   "execution_count": 8,
   "id": "6d4058b5",
   "metadata": {},
   "outputs": [
    {
     "data": {
      "text/plain": [
       "23"
      ]
     },
     "execution_count": 8,
     "metadata": {},
     "output_type": "execute_result"
    }
   ],
   "source": [
    "len(frase)"
   ]
  },
  {
   "cell_type": "code",
   "execution_count": 9,
   "id": "69a312b4",
   "metadata": {},
   "outputs": [
    {
     "data": {
      "text/plain": [
       "'Estou gostando do aprendizado'"
      ]
     },
     "execution_count": 9,
     "metadata": {},
     "output_type": "execute_result"
    }
   ],
   "source": [
    "frase.replace('curso','aprendizado')"
   ]
  },
  {
   "cell_type": "code",
   "execution_count": null,
   "id": "e496860c",
   "metadata": {},
   "outputs": [],
   "source": []
  }
 ],
 "metadata": {
  "kernelspec": {
   "display_name": "Python 3",
   "language": "python",
   "name": "python3"
  },
  "language_info": {
   "codemirror_mode": {
    "name": "ipython",
    "version": 3
   },
   "file_extension": ".py",
   "mimetype": "text/x-python",
   "name": "python",
   "nbconvert_exporter": "python",
   "pygments_lexer": "ipython3",
   "version": "3.10.6"
  },
  "vscode": {
   "interpreter": {
    "hash": "916dbcbb3f70747c44a77c7bcd40155683ae19c65e1c03b4aa3499c5328201f1"
   }
  }
 },
 "nbformat": 4,
 "nbformat_minor": 5
}
